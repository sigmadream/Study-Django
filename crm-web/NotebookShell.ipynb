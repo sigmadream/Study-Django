{
 "cells": [
  {
   "cell_type": "code",
   "execution_count": 2,
   "id": "10177e91",
   "metadata": {},
   "outputs": [],
   "source": [
    "import os\n",
    "\n",
    "os.environ[\"DJANGO_ALLOW_ASYNC_UNSAFE\"] = \"true\"\n",
    "os.environ[\"DJANGO_SETTINGS_MODULE\"] = \"config.settings\"\n",
    "\n",
    "import django\n",
    "django.setup()"
   ]
  },
  {
   "cell_type": "code",
   "execution_count": 4,
   "id": "8a2bb62f",
   "metadata": {},
   "outputs": [],
   "source": [
    "from leads.models import Lead"
   ]
  },
  {
   "cell_type": "code",
   "execution_count": 6,
   "id": "cfaba636",
   "metadata": {},
   "outputs": [],
   "source": [
    "leads = Lead.objects.all()"
   ]
  },
  {
   "cell_type": "code",
   "execution_count": 7,
   "id": "c501619c",
   "metadata": {},
   "outputs": [
    {
     "name": "stdout",
     "output_type": "stream",
     "text": [
      "<QuerySet [<Lead: John Doe>]>\n"
     ]
    }
   ],
   "source": [
    "print(leads)"
   ]
  },
  {
   "cell_type": "code",
   "execution_count": null,
   "id": "9db90af4",
   "metadata": {},
   "outputs": [],
   "source": []
  }
 ],
 "metadata": {
  "kernelspec": {
   "display_name": "Python 3",
   "language": "python",
   "name": "python3"
  },
  "language_info": {
   "codemirror_mode": {
    "name": "ipython",
    "version": 3
   },
   "file_extension": ".py",
   "mimetype": "text/x-python",
   "name": "python",
   "nbconvert_exporter": "python",
   "pygments_lexer": "ipython3",
   "version": "3.9.4"
  }
 },
 "nbformat": 4,
 "nbformat_minor": 5
}
