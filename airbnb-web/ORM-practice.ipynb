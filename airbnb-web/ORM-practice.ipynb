{
 "cells": [
  {
   "cell_type": "code",
   "execution_count": 1,
   "id": "revised-serial",
   "metadata": {},
   "outputs": [],
   "source": [
    "import os\n",
    "os.environ[\"DJANGO_ALLOW_ASYNC_UNSAFE\"] = \"true\"\n",
    "os.environ[\"DJANGO_SETTINGS_MODULE\"] = \"config.settings\""
   ]
  },
  {
   "cell_type": "code",
   "execution_count": 2,
   "id": "dutch-humor",
   "metadata": {},
   "outputs": [],
   "source": [
    "import django\n",
    "django.setup()"
   ]
  },
  {
   "cell_type": "markdown",
   "id": "interstate-capture",
   "metadata": {},
   "source": [
    "# User Model\n",
    "* https://docs.djangoproject.com/en/3.1/topics/db/queries/"
   ]
  },
  {
   "cell_type": "code",
   "execution_count": 44,
   "id": "pressed-jimmy",
   "metadata": {},
   "outputs": [],
   "source": [
    "from users.models import User\n",
    "from rooms.models import Room"
   ]
  },
  {
   "cell_type": "markdown",
   "id": "cardiac-palestinian",
   "metadata": {},
   "source": [
    "## UserManager \n",
    "* https://docs.djangoproject.com/en/3.1/topics/db/managers/#managers"
   ]
  },
  {
   "cell_type": "code",
   "execution_count": 5,
   "id": "decent-sponsorship",
   "metadata": {},
   "outputs": [
    {
     "data": {
      "text/plain": [
       "<django.contrib.auth.models.UserManager at 0x195c26ce7f0>"
      ]
     },
     "execution_count": 5,
     "metadata": {},
     "output_type": "execute_result"
    }
   ],
   "source": [
    "User.objects"
   ]
  },
  {
   "cell_type": "markdown",
   "id": "broke-touch",
   "metadata": {},
   "source": [
    "## Queries\n",
    "* https://docs.djangoproject.com/en/3.1/ref/models/querysets/#queryset-api-reference"
   ]
  },
  {
   "cell_type": "code",
   "execution_count": 37,
   "id": "attached-doctor",
   "metadata": {},
   "outputs": [
    {
     "data": {
      "text/plain": [
       "<QuerySet [<User: sd>]>"
      ]
     },
     "execution_count": 37,
     "metadata": {},
     "output_type": "execute_result"
    }
   ],
   "source": [
    "User.objects.all()"
   ]
  },
  {
   "cell_type": "code",
   "execution_count": 38,
   "id": "romantic-courage",
   "metadata": {},
   "outputs": [],
   "source": [
    "all_user = User.objects.all()"
   ]
  },
  {
   "cell_type": "code",
   "execution_count": 40,
   "id": "proper-globe",
   "metadata": {},
   "outputs": [
    {
     "data": {
      "text/plain": [
       "<QuerySet [<User: sd>]>"
      ]
     },
     "execution_count": 40,
     "metadata": {},
     "output_type": "execute_result"
    }
   ],
   "source": [
    "all_user.filter(superhost=True)"
   ]
  },
  {
   "cell_type": "markdown",
   "id": "nasty-potter",
   "metadata": {},
   "source": [
    "## _set"
   ]
  },
  {
   "cell_type": "code",
   "execution_count": 42,
   "id": "swedish-township",
   "metadata": {},
   "outputs": [
    {
     "data": {
      "text/plain": [
       "<User: sd>"
      ]
     },
     "execution_count": 42,
     "metadata": {},
     "output_type": "execute_result"
    }
   ],
   "source": [
    "sd = User.objects.get(username=\"sd\")\n",
    "sd"
   ]
  },
  {
   "cell_type": "code",
   "execution_count": 43,
   "id": "parliamentary-sharing",
   "metadata": {},
   "outputs": [
    {
     "data": {
      "text/plain": [
       "<QuerySet [<Room: Room Type1>]>"
      ]
     },
     "execution_count": 43,
     "metadata": {},
     "output_type": "execute_result"
    }
   ],
   "source": [
    "# sd.rooms_set.all()\n",
    "sd.rooms.all()"
   ]
  },
  {
   "cell_type": "code",
   "execution_count": 35,
   "id": "intermediate-variance",
   "metadata": {},
   "outputs": [
    {
     "name": "stdout",
     "output_type": "stream",
     "text": [
      "rooms.Room.None\n"
     ]
    }
   ],
   "source": [
    "print(sd.rooms)"
   ]
  },
  {
   "cell_type": "code",
   "execution_count": 46,
   "id": "southern-sport",
   "metadata": {},
   "outputs": [
    {
     "data": {
      "text/plain": [
       "<Room: Room Type1>"
      ]
     },
     "execution_count": 46,
     "metadata": {},
     "output_type": "execute_result"
    }
   ],
   "source": [
    "room = Room.objects.get(id=1)\n",
    "room"
   ]
  },
  {
   "cell_type": "code",
   "execution_count": 47,
   "id": "missing-dayton",
   "metadata": {},
   "outputs": [
    {
     "data": {
      "text/plain": [
       "<Room: Room Type1>"
      ]
     },
     "execution_count": 47,
     "metadata": {},
     "output_type": "execute_result"
    }
   ],
   "source": [
    "room = Room.objects.get(pk=1)\n",
    "room"
   ]
  },
  {
   "cell_type": "code",
   "execution_count": 51,
   "id": "choice-jurisdiction",
   "metadata": {},
   "outputs": [
    {
     "data": {
      "text/plain": [
       "<django.db.models.fields.related_descriptors.create_reverse_many_to_one_manager.<locals>.RelatedManager at 0x195c5899f10>"
      ]
     },
     "execution_count": 51,
     "metadata": {},
     "output_type": "execute_result"
    }
   ],
   "source": [
    "room.reviews"
   ]
  },
  {
   "cell_type": "code",
   "execution_count": null,
   "id": "brilliant-press",
   "metadata": {},
   "outputs": [],
   "source": []
  }
 ],
 "metadata": {
  "kernelspec": {
   "display_name": "Python 3",
   "language": "python",
   "name": "python3"
  },
  "language_info": {
   "codemirror_mode": {
    "name": "ipython",
    "version": 3
   },
   "file_extension": ".py",
   "mimetype": "text/x-python",
   "name": "python",
   "nbconvert_exporter": "python",
   "pygments_lexer": "ipython3",
   "version": "3.8.7"
  }
 },
 "nbformat": 4,
 "nbformat_minor": 5
}
